{
 "cells": [
  {
   "cell_type": "code",
   "execution_count": 54,
   "metadata": {},
   "outputs": [],
   "source": [
    "import pandas as pd\n",
    "import numpy as np\n",
    "from scipy.stats import boxcox\n",
    "from xgboost import XGBClassifier\n",
    "import pickle"
   ]
  },
  {
   "cell_type": "code",
   "execution_count": 55,
   "metadata": {},
   "outputs": [],
   "source": [
    "class DataIngestion:\n",
    "    def __init__(self, path):\n",
    "        self.path = path\n",
    "        self.data = self.read_data()\n",
    "\n",
    "    def read_data(self):\n",
    "        data = pd.read_csv(self.path)\n",
    "        return data\n",
    "\n",
    "    def get_data(self):\n",
    "        return self.data"
   ]
  },
  {
   "cell_type": "code",
   "execution_count": 56,
   "metadata": {},
   "outputs": [],
   "source": [
    "class FeatureEngineering:\n",
    "    def __init__(self, data):\n",
    "        self.df = data\n",
    "\n",
    "    def get_data(self):\n",
    "        return self.df\n",
    "\n",
    "    def perform_feature_engineering(self):\n",
    "        # Dropping PassengerId since not really relevant\n",
    "        self.df.drop(\"PassengerId\", axis=1, inplace=True)\n",
    "\n",
    "        # Pclass (1>2>3), belonging to higher class increases chances of survival. Hence encoding accordingly.\n",
    "        self.df[\"Pclass\"] = self.df[\"Pclass\"].map({1: 1, 2: 0, 3: -1})\n",
    "\n",
    "        # Title embedded in the second word of the name\n",
    "        def get_title(name):\n",
    "            postname = name.split(\",\")[1]\n",
    "            title = postname.split(\".\")[0]\n",
    "            return title.strip()\n",
    "\n",
    "        self.df[\"Title\"] = self.df[\"Name\"].apply(get_title)\n",
    "        to_keep = [\"Mr\", \"Miss\", \"Mrs\", \"Master\"]\n",
    "        self.df[\"Title\"] = self.df[\"Title\"].apply(\n",
    "            lambda x: x if x in to_keep else \"Other\"\n",
    "        )\n",
    "\n",
    "        # Filling the missing values in age with mean of subset df with same categorical features\n",
    "        cat = ['Sex', 'Pclass', 'Title']\n",
    "        df_age = self.df[cat + ['Age']]\n",
    "        df_age_mean = round(df_age.dropna().groupby(cat, as_index=True).median(),1)\n",
    "        \n",
    "        def get_age(var, sex, pclass, title):\n",
    "            if np.isnan(var):\n",
    "                mean = df_age_mean['Age'][sex][pclass][title]\n",
    "            else:\n",
    "                mean = var\n",
    "            return mean\n",
    "        \n",
    "        df_age['Age2'] = df_age.apply(lambda x: get_age(x.Age, x.Sex, x.Pclass, x.Title), axis=1)\n",
    "        self.df['Age'] = self.df.apply(lambda x: get_age(x.Age, x.Sex, x.Pclass, x.Title), axis=1)\n",
    "\n",
    "        self.df['Age2'], lam_age = boxcox(self.df['Age'])\n",
    "        def get_transform(var):\n",
    "            return (var**lam_age - 1) / lam_age\n",
    "        \n",
    "        self.df['Age'] = self.df.apply(lambda x: get_transform(x.Age),axis=1)\n",
    "        self.df.drop('Age2', axis=1, inplace=True)\n",
    "\n",
    "        # Feature Engineering from the SibSp and Parch features\n",
    "        def get_family_size(Parch, SibSp):\n",
    "            return Parch + SibSp + 1\n",
    "        \n",
    "        def get_family_type(var):\n",
    "            if var == 1:\n",
    "                return 'alone'\n",
    "            elif var<=4:\n",
    "                return 'small'\n",
    "            else:\n",
    "                return 'big'\n",
    "        \n",
    "        self.df['FamilySize'] = self.df.apply(lambda x: get_family_size(x.Parch, x.SibSp), axis = 1)\n",
    "        self.df['FamilyType'] = self.df.apply(lambda x: get_family_type(x.FamilySize), axis = 1)\n",
    "        self.df.drop(['FamilySize', 'Parch', 'SibSp'], axis = 1, inplace=True)\n",
    "\n",
    "\n",
    "        # Fill the missing fare values\n",
    "        self.df['Fare'].fillna(self.df['Fare'].mean(), inplace=True)\n",
    "        self.df['Fare2'], lam_fare = boxcox(self.df['Fare']+0.0001)\n",
    "\n",
    "        def get_transform(var):\n",
    "            return (var**lam_fare - 1) / lam_fare\n",
    "        \n",
    "        self.df.drop(['Fare2'], axis=1, inplace= True)\n",
    "        self.df['Fare'] = self.df.apply(lambda x: get_transform(x.Fare),axis=1)\n",
    "\n",
    "        self.df.drop(['Name', 'Ticket', 'Cabin'], axis=1, inplace=True)"
   ]
  },
  {
   "cell_type": "code",
   "execution_count": 57,
   "metadata": {},
   "outputs": [],
   "source": [
    "class Model:\n",
    "    def __init__(self, data):\n",
    "        self.df = data\n",
    "        self.df = pd.get_dummies(self.df, prefix=\"cat\", drop_first=True)\n",
    "        self.model = XGBClassifier(min_child_weight = 3.25, gamma = 0.5, subsample = 0.5, max_depth = 4)\n",
    "\n",
    "    def get_training_data(self):\n",
    "        Y_train = self.df[\"Survived\"]\n",
    "        X_train = self.df.drop(\"Survived\", axis=1)\n",
    "        return X_train, Y_train\n",
    "    \n",
    "    def train(self, X_train, Y_train):\n",
    "        self.model.fit(X_train, Y_train)\n",
    "    \n",
    "    def dump_model(self):\n",
    "        pickle.dump(self.model, open(\"model.pkl\", \"wb\"))\n",
    "        "
   ]
  },
  {
   "cell_type": "code",
   "execution_count": 58,
   "metadata": {},
   "outputs": [
    {
     "name": "stderr",
     "output_type": "stream",
     "text": [
      "/var/folders/93/9kgm8vks4wz6zr8rg0d_pb7w0000gn/T/ipykernel_73336/1089114813.py:39: SettingWithCopyWarning: \n",
      "A value is trying to be set on a copy of a slice from a DataFrame.\n",
      "Try using .loc[row_indexer,col_indexer] = value instead\n",
      "\n",
      "See the caveats in the documentation: https://pandas.pydata.org/pandas-docs/stable/user_guide/indexing.html#returning-a-view-versus-a-copy\n",
      "  df_age['Age2'] = df_age.apply(lambda x: get_age(x.Age, x.Sex, x.Pclass, x.Title), axis=1)\n"
     ]
    }
   ],
   "source": [
    "data = DataIngestion('train.csv')\n",
    "train_df = data.get_data()\n",
    "fe = FeatureEngineering(train_df)\n",
    "fe.perform_feature_engineering()\n",
    "train_df = fe.get_data()\n",
    "model = Model(train_df)\n",
    "X_train, Y_train = model.get_training_data()\n",
    "model.train(X_train, Y_train)\n",
    "model.dump_model()"
   ]
  },
  {
   "cell_type": "code",
   "execution_count": null,
   "metadata": {},
   "outputs": [],
   "source": []
  }
 ],
 "metadata": {
  "kernelspec": {
   "display_name": "Python 3.10.6 64-bit",
   "language": "python",
   "name": "python3"
  },
  "language_info": {
   "codemirror_mode": {
    "name": "ipython",
    "version": 3
   },
   "file_extension": ".py",
   "mimetype": "text/x-python",
   "name": "python",
   "nbconvert_exporter": "python",
   "pygments_lexer": "ipython3",
   "version": "3.10.6"
  },
  "orig_nbformat": 4,
  "vscode": {
   "interpreter": {
    "hash": "b0fa6594d8f4cbf19f97940f81e996739fb7646882a419484c72d19e05852a7e"
   }
  }
 },
 "nbformat": 4,
 "nbformat_minor": 2
}

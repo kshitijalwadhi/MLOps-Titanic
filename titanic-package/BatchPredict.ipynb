{
 "cells": [
  {
   "cell_type": "code",
   "execution_count": 1,
   "id": "0793655b-a5ac-4185-974b-54abbc177c3e",
   "metadata": {},
   "outputs": [],
   "source": [
    "from predictor.predictor import XgboostPredictorCPR\n",
    "import json"
   ]
  },
  {
   "cell_type": "code",
   "execution_count": 2,
   "id": "02e390a3-afe6-46cd-8a9d-2ee37121215d",
   "metadata": {},
   "outputs": [],
   "source": [
    "MODEL_ARTIFACTS = \"/home/jupyter/titanic/model_files/\"\n",
    "\n",
    "# Load Predictor\n",
    "predictor = XgboostPredictorCPR()\n",
    "predictor.load(MODEL_ARTIFACTS)"
   ]
  },
  {
   "cell_type": "code",
   "execution_count": 3,
   "id": "e0e02e04-adc4-4a80-a116-19b16ef7f21e",
   "metadata": {},
   "outputs": [],
   "source": [
    "data = json.load(open(\"instances.json\"))"
   ]
  },
  {
   "cell_type": "code",
   "execution_count": 4,
   "id": "c8888855-527c-4c99-b97a-73bdc7706703",
   "metadata": {},
   "outputs": [],
   "source": [
    "processed_input = predictor.preprocess(data)"
   ]
  },
  {
   "cell_type": "code",
   "execution_count": 5,
   "id": "16674c43-0fd2-4643-b9b4-776257f22e40",
   "metadata": {},
   "outputs": [],
   "source": [
    "predictions = predictor.predict(processed_input)"
   ]
  },
  {
   "cell_type": "code",
   "execution_count": 7,
   "id": "ca594901-e428-46c5-9786-94c2a2861027",
   "metadata": {},
   "outputs": [
    {
     "data": {
      "text/plain": [
       "{'predictions': [0, 1, 0]}"
      ]
     },
     "execution_count": 7,
     "metadata": {},
     "output_type": "execute_result"
    }
   ],
   "source": [
    "predictor.postprocess(predictions)"
   ]
  }
 ],
 "metadata": {
  "environment": {
   "kernel": "python3",
   "name": "common-cpu.m97",
   "type": "gcloud",
   "uri": "gcr.io/deeplearning-platform-release/base-cpu:m97"
  },
  "kernelspec": {
   "display_name": "Python 3",
   "language": "python",
   "name": "python3"
  },
  "language_info": {
   "codemirror_mode": {
    "name": "ipython",
    "version": 3
   },
   "file_extension": ".py",
   "mimetype": "text/x-python",
   "name": "python",
   "nbconvert_exporter": "python",
   "pygments_lexer": "ipython3",
   "version": "3.7.12"
  }
 },
 "nbformat": 4,
 "nbformat_minor": 5
}

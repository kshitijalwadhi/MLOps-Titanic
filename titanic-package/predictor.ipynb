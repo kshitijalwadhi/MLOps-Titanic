{
 "cells": [
  {
   "cell_type": "code",
   "execution_count": 9,
   "id": "1c7f8599-a3f3-4e53-a7e8-ca06f6ca002b",
   "metadata": {},
   "outputs": [],
   "source": [
    "from google.cloud import aiplatform\n",
    "\n",
    "PROJECT_ID = \"titanic-problem\"\n",
    "REGION = \"us-central1\"\n",
    "REPOSITORY = \"titanic\"\n",
    "IMAGE = \"xgboost-image\"\n",
    "\n",
    "aiplatform.init(project=PROJECT_ID, location=REGION)\n",
    "\n",
    "import os\n",
    "\n",
    "from google.cloud.aiplatform.prediction import LocalModel\n",
    "\n",
    "from predictor.predictor import XgboostPredictorCPR  # Should be path of variable $USER_SRC_DIR\n",
    "\n",
    "local_model = LocalModel.build_cpr_model(\n",
    "    src_dir = \"/home/jupyter/titanic/predictor\",\n",
    "    output_image_uri = f\"{REGION}-docker.pkg.dev/{PROJECT_ID}/{REPOSITORY}/{IMAGE}\",\n",
    "    predictor=XgboostPredictorCPR,\n",
    "    requirements_path=\"/home/jupyter/titanic/predictor/requirements.txt\"\n",
    ")\n"
   ]
  },
  {
   "cell_type": "code",
   "execution_count": 4,
   "id": "4debd0a3-7762-44c7-b7a1-578ca1825875",
   "metadata": {},
   "outputs": [
    {
     "name": "stdout",
     "output_type": "stream",
     "text": [
      "\u001b[1;31mERROR:\u001b[0m (gcloud.artifacts.repositories.create) ALREADY_EXISTS: the repository already exists\n"
     ]
    }
   ],
   "source": [
    "!gcloud artifacts repositories create {REPOSITORY} --repository-format=docker \\\n",
    "--location=us-central1 --description=\"Docker repository\""
   ]
  },
  {
   "cell_type": "code",
   "execution_count": 5,
   "id": "0cd8c4c5-2116-42a7-9b1d-35dfa5cf27b9",
   "metadata": {},
   "outputs": [
    {
     "name": "stdout",
     "output_type": "stream",
     "text": [
      "\u001b[1;33mWARNING:\u001b[0m Your config file at [/home/jupyter/.docker/config.json] contains these credential helper entries:\n",
      "\n",
      "{\n",
      "  \"credHelpers\": {\n",
      "    \"gcr.io\": \"gcloud\",\n",
      "    \"us.gcr.io\": \"gcloud\",\n",
      "    \"eu.gcr.io\": \"gcloud\",\n",
      "    \"asia.gcr.io\": \"gcloud\",\n",
      "    \"staging-k8s.gcr.io\": \"gcloud\",\n",
      "    \"marketplace.gcr.io\": \"gcloud\",\n",
      "    \"us-central1-docker.pkg.dev\": \"gcloud\"\n",
      "  }\n",
      "}\n",
      "Adding credentials for: us-central1-docker.pkg.dev\n",
      "gcloud credential helpers already registered correctly.\n"
     ]
    }
   ],
   "source": [
    "!gcloud auth configure-docker {REGION}-docker.pkg.dev --quiet"
   ]
  },
  {
   "cell_type": "code",
   "execution_count": 10,
   "id": "d77ac8ee-5f16-4fd1-85cc-def7b4201057",
   "metadata": {},
   "outputs": [],
   "source": [
    "local_model.push_image()"
   ]
  },
  {
   "cell_type": "code",
   "execution_count": null,
   "id": "cfb595f4-5ee1-4d66-bb3d-4efa5f09cfc6",
   "metadata": {},
   "outputs": [],
   "source": []
  },
  {
   "cell_type": "code",
   "execution_count": null,
   "id": "518f6a2e-6590-4ed4-9cc0-1d6c2a048b11",
   "metadata": {},
   "outputs": [],
   "source": []
  },
  {
   "cell_type": "code",
   "execution_count": 48,
   "id": "423f418b-2957-43c1-afa1-a077b511ddf0",
   "metadata": {},
   "outputs": [
    {
     "data": {
      "text/plain": [
       "'us-central1-docker.pkg.dev/titanic-problem/titanic/xgboost-image'"
      ]
     },
     "execution_count": 48,
     "metadata": {},
     "output_type": "execute_result"
    }
   ],
   "source": [
    "f\"{REGION}-docker.pkg.dev/{PROJECT_ID}/{REPOSITORY}/{IMAGE}\""
   ]
  },
  {
   "cell_type": "code",
   "execution_count": 11,
   "id": "a5df8bb4-d553-4fc8-a92b-f9a6714d8ad3",
   "metadata": {},
   "outputs": [],
   "source": [
    "import json\n",
    "\n",
    "#input: ['pclass', 'name', 'sex', 'sibsp', 'parch']\n",
    "\n",
    "sample = {\"instances\": [\n",
    "    [1, 'Test Mr ABC', 'male', 2, 3],\n",
    "    [1, \"Test Ms PQR\", \"female\", 0, 0],\n",
    "    [2, \"Test Mrs XYZ\", \"female\", 0, 1],\n",
    "]}\n",
    "\n",
    "with open('instances.json', 'w') as fp:\n",
    "    json.dump(sample, fp)\n"
   ]
  },
  {
   "cell_type": "code",
   "execution_count": 12,
   "id": "ee5bd28f-341f-4532-9957-3be98801ffae",
   "metadata": {},
   "outputs": [
    {
     "name": "stdout",
     "output_type": "stream",
     "text": [
      "<Response [500]>\n"
     ]
    }
   ],
   "source": [
    "with local_model.deploy_to_local_endpoint(\n",
    "    artifact_uri = '/home/jupyter/titanic/model_files/', # local path to artifacts\n",
    ") as local_endpoint:\n",
    "    predict_response = local_endpoint.predict(\n",
    "        request_file='instances.json',\n",
    "        headers={\"Content-Type\": \"application/json\"},\n",
    "    )\n",
    "    print(predict_response)\n",
    "    health_check_response = local_endpoint.run_health_check()\n"
   ]
  },
  {
   "cell_type": "code",
   "execution_count": 13,
   "id": "bde74b59-2168-4c9e-baf7-95a49ac3f742",
   "metadata": {},
   "outputs": [
    {
     "data": {
      "text/plain": [
       "b'{\"detail\":\"The following exception has occurred: AttributeError. Arguments: (\\\\\"\\'super\\' object has no attribute \\'get_params\\'\\\\\",).\"}'"
      ]
     },
     "execution_count": 13,
     "metadata": {},
     "output_type": "execute_result"
    }
   ],
   "source": [
    "predict_response.content"
   ]
  },
  {
   "cell_type": "code",
   "execution_count": null,
   "id": "dd3f6b8c-0fb9-4f43-ad87-6924e8c020f5",
   "metadata": {},
   "outputs": [],
   "source": []
  },
  {
   "cell_type": "code",
   "execution_count": 3,
   "id": "8d0259b4-c5fa-442c-b655-4ef4f206fffc",
   "metadata": {},
   "outputs": [],
   "source": [
    "predictor = XgboostPredictorCPR()"
   ]
  },
  {
   "cell_type": "code",
   "execution_count": 4,
   "id": "033a8f2f-1958-4ed7-b67f-f5d64f4bd440",
   "metadata": {},
   "outputs": [],
   "source": [
    "predictor.load('/home/jupyter/titanic/model_files/')"
   ]
  },
  {
   "cell_type": "code",
   "execution_count": 5,
   "id": "69c9fef0-8629-412c-9095-23f4833ed216",
   "metadata": {},
   "outputs": [],
   "source": [
    "instances = {\"instances\":[[1, 'Test Mr ABC', 'male', 2, 3]]}\n",
    "instances = predictor.preprocess(instances)"
   ]
  },
  {
   "cell_type": "code",
   "execution_count": 6,
   "id": "450d4ab5-9e27-42d4-87c0-3728d87d2914",
   "metadata": {},
   "outputs": [
    {
     "data": {
      "text/plain": [
       "array([0])"
      ]
     },
     "execution_count": 6,
     "metadata": {},
     "output_type": "execute_result"
    }
   ],
   "source": [
    "predictor.predict(instances)"
   ]
  },
  {
   "cell_type": "code",
   "execution_count": null,
   "id": "474c03c2-9510-431d-ae1c-5e4ce114dea1",
   "metadata": {},
   "outputs": [],
   "source": []
  },
  {
   "cell_type": "code",
   "execution_count": null,
   "id": "29a28092-7e9c-4d5f-8e43-5a04b5266fb1",
   "metadata": {},
   "outputs": [],
   "source": []
  },
  {
   "cell_type": "code",
   "execution_count": 25,
   "id": "c949fc95-6e74-442b-8592-c2c23be9bf3a",
   "metadata": {},
   "outputs": [],
   "source": [
    "endpoint = local_model.deploy_to_local_endpoint(\n",
    "    artifact_uri = '/home/jupyter/titanic/model_files', # local path to artifacts\n",
    ")"
   ]
  },
  {
   "cell_type": "code",
   "execution_count": 22,
   "id": "7236bfa2-0a95-41ee-97be-611a20df863f",
   "metadata": {},
   "outputs": [
    {
     "ename": "KeyboardInterrupt",
     "evalue": "",
     "output_type": "error",
     "traceback": [
      "\u001b[0;31m---------------------------------------------------------------------------\u001b[0m",
      "\u001b[0;31mKeyboardInterrupt\u001b[0m                         Traceback (most recent call last)",
      "\u001b[0;32m/tmp/ipykernel_16767/3372499367.py\u001b[0m in \u001b[0;36m<module>\u001b[0;34m\u001b[0m\n\u001b[0;32m----> 1\u001b[0;31m \u001b[0mendpoint\u001b[0m\u001b[0;34m.\u001b[0m\u001b[0mserve\u001b[0m\u001b[0;34m(\u001b[0m\u001b[0;34m)\u001b[0m\u001b[0;34m\u001b[0m\u001b[0;34m\u001b[0m\u001b[0m\n\u001b[0m",
      "\u001b[0;32m/opt/conda/lib/python3.7/site-packages/google/cloud/aiplatform/prediction/local_endpoint.py\u001b[0m in \u001b[0;36mserve\u001b[0;34m(self)\u001b[0m\n\u001b[1;32m    274\u001b[0m             \u001b[0mself\u001b[0m\u001b[0;34m.\u001b[0m\u001b[0mcontainer_is_running\u001b[0m \u001b[0;34m=\u001b[0m \u001b[0;32mTrue\u001b[0m\u001b[0;34m\u001b[0m\u001b[0;34m\u001b[0m\u001b[0m\n\u001b[1;32m    275\u001b[0m             \u001b[0;31m# Waits until the model server starts.\u001b[0m\u001b[0;34m\u001b[0m\u001b[0;34m\u001b[0m\u001b[0;34m\u001b[0m\u001b[0m\n\u001b[0;32m--> 276\u001b[0;31m             \u001b[0mself\u001b[0m\u001b[0;34m.\u001b[0m\u001b[0m_wait_until_health_check_succeeds\u001b[0m\u001b[0;34m(\u001b[0m\u001b[0;34m)\u001b[0m\u001b[0;34m\u001b[0m\u001b[0;34m\u001b[0m\u001b[0m\n\u001b[0m\u001b[1;32m    277\u001b[0m         \u001b[0;32mexcept\u001b[0m \u001b[0mException\u001b[0m \u001b[0;32mas\u001b[0m \u001b[0mexception\u001b[0m\u001b[0;34m:\u001b[0m\u001b[0;34m\u001b[0m\u001b[0;34m\u001b[0m\u001b[0m\n\u001b[1;32m    278\u001b[0m             \u001b[0m_logger\u001b[0m\u001b[0;34m.\u001b[0m\u001b[0merror\u001b[0m\u001b[0;34m(\u001b[0m\u001b[0;34mf\"Exception during starting serving: {exception}.\"\u001b[0m\u001b[0;34m)\u001b[0m\u001b[0;34m\u001b[0m\u001b[0;34m\u001b[0m\u001b[0m\n",
      "\u001b[0;32m/opt/conda/lib/python3.7/site-packages/google/cloud/aiplatform/prediction/local_endpoint.py\u001b[0m in \u001b[0;36m_wait_until_health_check_succeeds\u001b[0;34m(self)\u001b[0m\n\u001b[1;32m    318\u001b[0m             \u001b[0mresponse\u001b[0m \u001b[0;32mis\u001b[0m \u001b[0;32mNone\u001b[0m \u001b[0;32mor\u001b[0m \u001b[0mresponse\u001b[0m\u001b[0;34m.\u001b[0m\u001b[0mstatus_code\u001b[0m \u001b[0;34m!=\u001b[0m \u001b[0;36m200\u001b[0m\u001b[0;34m\u001b[0m\u001b[0;34m\u001b[0m\u001b[0m\n\u001b[1;32m    319\u001b[0m         ):\n\u001b[0;32m--> 320\u001b[0;31m             \u001b[0mtime\u001b[0m\u001b[0;34m.\u001b[0m\u001b[0msleep\u001b[0m\u001b[0;34m(\u001b[0m\u001b[0mself\u001b[0m\u001b[0;34m.\u001b[0m\u001b[0mcontainer_ready_check_interval\u001b[0m\u001b[0;34m)\u001b[0m\u001b[0;34m\u001b[0m\u001b[0;34m\u001b[0m\u001b[0m\n\u001b[0m\u001b[1;32m    321\u001b[0m             \u001b[0melapsed_time\u001b[0m \u001b[0;34m+=\u001b[0m \u001b[0mself\u001b[0m\u001b[0;34m.\u001b[0m\u001b[0mcontainer_ready_check_interval\u001b[0m\u001b[0;34m\u001b[0m\u001b[0;34m\u001b[0m\u001b[0m\n\u001b[1;32m    322\u001b[0m             \u001b[0;32mtry\u001b[0m\u001b[0;34m:\u001b[0m\u001b[0;34m\u001b[0m\u001b[0;34m\u001b[0m\u001b[0m\n",
      "\u001b[0;31mKeyboardInterrupt\u001b[0m: "
     ]
    }
   ],
   "source": [
    "endpoint.serve()"
   ]
  },
  {
   "cell_type": "code",
   "execution_count": 21,
   "id": "1d37d0f0-c6a2-49fb-9e32-f439a47c131b",
   "metadata": {},
   "outputs": [
    {
     "ename": "RuntimeError",
     "evalue": "The local endpoint is not serving traffic. Please call `serve()`.",
     "output_type": "error",
     "traceback": [
      "\u001b[0;31m---------------------------------------------------------------------------\u001b[0m",
      "\u001b[0;31mRuntimeError\u001b[0m                              Traceback (most recent call last)",
      "\u001b[0;32m/tmp/ipykernel_16767/3918091068.py\u001b[0m in \u001b[0;36m<module>\u001b[0;34m\u001b[0m\n\u001b[1;32m      1\u001b[0m endpoint.predict(\n\u001b[1;32m      2\u001b[0m         \u001b[0mrequest_file\u001b[0m\u001b[0;34m=\u001b[0m\u001b[0;34m'instances.json'\u001b[0m\u001b[0;34m,\u001b[0m\u001b[0;34m\u001b[0m\u001b[0;34m\u001b[0m\u001b[0m\n\u001b[0;32m----> 3\u001b[0;31m         \u001b[0mheaders\u001b[0m\u001b[0;34m=\u001b[0m\u001b[0;34m{\u001b[0m\u001b[0;34m\"Content-Type\"\u001b[0m\u001b[0;34m:\u001b[0m \u001b[0;34m\"application/json\"\u001b[0m\u001b[0;34m}\u001b[0m\u001b[0;34m,\u001b[0m\u001b[0;34m\u001b[0m\u001b[0;34m\u001b[0m\u001b[0m\n\u001b[0m\u001b[1;32m      4\u001b[0m     )\n",
      "\u001b[0;32m/opt/conda/lib/python3.7/site-packages/google/cloud/aiplatform/prediction/local_endpoint.py\u001b[0m in \u001b[0;36mpredict\u001b[0;34m(self, request, request_file, headers, verbose)\u001b[0m\n\u001b[1;32m    377\u001b[0m         \u001b[0;32mif\u001b[0m \u001b[0mself\u001b[0m\u001b[0;34m.\u001b[0m\u001b[0mcontainer_is_running\u001b[0m \u001b[0;32mis\u001b[0m \u001b[0;32mFalse\u001b[0m\u001b[0;34m:\u001b[0m\u001b[0;34m\u001b[0m\u001b[0;34m\u001b[0m\u001b[0m\n\u001b[1;32m    378\u001b[0m             raise RuntimeError(\n\u001b[0;32m--> 379\u001b[0;31m                 \u001b[0;34m\"The local endpoint is not serving traffic. Please call `serve()`.\"\u001b[0m\u001b[0;34m\u001b[0m\u001b[0;34m\u001b[0m\u001b[0m\n\u001b[0m\u001b[1;32m    380\u001b[0m             )\n\u001b[1;32m    381\u001b[0m \u001b[0;34m\u001b[0m\u001b[0m\n",
      "\u001b[0;31mRuntimeError\u001b[0m: The local endpoint is not serving traffic. Please call `serve()`."
     ]
    }
   ],
   "source": [
    "endpoint.predict(\n",
    "        request_file='instances.json',\n",
    "        headers={\"Content-Type\": \"application/json\"},\n",
    "    )"
   ]
  },
  {
   "cell_type": "code",
   "execution_count": null,
   "id": "82d151c2-e27b-454d-ae41-25401567a36d",
   "metadata": {},
   "outputs": [],
   "source": []
  },
  {
   "cell_type": "code",
   "execution_count": 40,
   "id": "4ddcf49a-6b49-40c6-b337-6af685d6fdcc",
   "metadata": {},
   "outputs": [],
   "source": [
    "import pandas as pd"
   ]
  },
  {
   "cell_type": "code",
   "execution_count": 31,
   "id": "25789741-c93c-479b-8ea7-0e611f366f58",
   "metadata": {},
   "outputs": [],
   "source": [
    "instances = [[1, 'Test Mr ABC', 'male', 2, 3]]"
   ]
  },
  {
   "cell_type": "code",
   "execution_count": 41,
   "id": "bc11e245-ccfd-4b93-a348-90e040da2c7d",
   "metadata": {},
   "outputs": [],
   "source": [
    "def process_instance(data):\n",
    "    pclass_map = {\n",
    "            1: 1,\n",
    "            2: 0,\n",
    "            3: -1,\n",
    "        }\n",
    "\n",
    "    # input: ['pclass', 'name', 'sex', 'sibsp', 'parch']\n",
    "    # output: ['pclass', 'cat_male', 'cat_Miss', 'cat_Mr', 'cat_Mrs', 'cat_Other', 'cat_big', 'cat_small']\n",
    "    processed_instances = []\n",
    "    for instance in instances:\n",
    "        pclass = instance[0]\n",
    "        name = instance[1]\n",
    "        sex = instance[2]\n",
    "        sibsp = instance[3]\n",
    "        parch = instance[4]\n",
    "\n",
    "        fam_size = sibsp + parch + 1\n",
    "        if fam_size == 1:\n",
    "            cat_big = 0\n",
    "            cat_small = 0\n",
    "        elif fam_size <= 4:\n",
    "            cat_big = 0\n",
    "            cat_small = 1\n",
    "        else:\n",
    "            cat_big = 1\n",
    "            cat_small = 0\n",
    "\n",
    "        if sex == \"male\":\n",
    "            cat_male = 1\n",
    "        else:\n",
    "            cat_male = 0\n",
    "\n",
    "        pclass = pclass_map[pclass]\n",
    "\n",
    "        cat_Miss, cat_Mr, cat_Mrs, cat_Other = 0, 0, 0, 0\n",
    "        if \"Miss\" in name:\n",
    "            cat_Miss = 1\n",
    "        elif \"Mr\" in name:\n",
    "            cat_Mr = 1\n",
    "        elif \"Mrs\" in name:\n",
    "            cat_Mrs = 1\n",
    "        elif \"Master\" in name:\n",
    "            cat_Other = 0\n",
    "        else:\n",
    "            cat_Other = 1\n",
    "\n",
    "        processed_instance = [\n",
    "            pclass,\n",
    "            cat_male,\n",
    "            cat_Miss,\n",
    "            cat_Mr,\n",
    "            cat_Mrs,\n",
    "            cat_Other,\n",
    "            cat_big,\n",
    "            cat_small,\n",
    "        ]\n",
    "        processed_instances.append(processed_instance)\n",
    "    return pd.DataFrame(processed_instances, columns = ['pclass', 'cat_male', 'cat_Miss', 'cat_Mr', 'cat_Mrs', 'cat_Other', 'cat_big', 'cat_small'])"
   ]
  },
  {
   "cell_type": "code",
   "execution_count": 42,
   "id": "c137ad52-043d-41e8-9938-a221dcd244e0",
   "metadata": {},
   "outputs": [
    {
     "data": {
      "text/html": [
       "<div>\n",
       "<style scoped>\n",
       "    .dataframe tbody tr th:only-of-type {\n",
       "        vertical-align: middle;\n",
       "    }\n",
       "\n",
       "    .dataframe tbody tr th {\n",
       "        vertical-align: top;\n",
       "    }\n",
       "\n",
       "    .dataframe thead th {\n",
       "        text-align: right;\n",
       "    }\n",
       "</style>\n",
       "<table border=\"1\" class=\"dataframe\">\n",
       "  <thead>\n",
       "    <tr style=\"text-align: right;\">\n",
       "      <th></th>\n",
       "      <th>pclass</th>\n",
       "      <th>cat_male</th>\n",
       "      <th>cat_Miss</th>\n",
       "      <th>cat_Mr</th>\n",
       "      <th>cat_Mrs</th>\n",
       "      <th>cat_Other</th>\n",
       "      <th>cat_big</th>\n",
       "      <th>cat_small</th>\n",
       "    </tr>\n",
       "  </thead>\n",
       "  <tbody>\n",
       "    <tr>\n",
       "      <th>0</th>\n",
       "      <td>1</td>\n",
       "      <td>1</td>\n",
       "      <td>0</td>\n",
       "      <td>1</td>\n",
       "      <td>0</td>\n",
       "      <td>0</td>\n",
       "      <td>1</td>\n",
       "      <td>0</td>\n",
       "    </tr>\n",
       "  </tbody>\n",
       "</table>\n",
       "</div>"
      ],
      "text/plain": [
       "   pclass  cat_male  cat_Miss  cat_Mr  cat_Mrs  cat_Other  cat_big  cat_small\n",
       "0       1         1         0       1        0          0        1          0"
      ]
     },
     "execution_count": 42,
     "metadata": {},
     "output_type": "execute_result"
    }
   ],
   "source": [
    "process_instance(data)"
   ]
  },
  {
   "cell_type": "code",
   "execution_count": 43,
   "id": "23527e6b-9835-4372-996b-f1da543c3e36",
   "metadata": {},
   "outputs": [],
   "source": [
    "from xgboost import XGBClassifier\n",
    "import xgboost as xgb\n",
    "import pickle\n",
    "xgb_model_loaded = pickle.load(open(\"model.pkl\", \"rb\"))"
   ]
  },
  {
   "cell_type": "code",
   "execution_count": 44,
   "id": "2e45799e-257d-428b-82d8-ee09aa10f7b5",
   "metadata": {},
   "outputs": [
    {
     "data": {
      "text/plain": [
       "array([0])"
      ]
     },
     "execution_count": 44,
     "metadata": {},
     "output_type": "execute_result"
    }
   ],
   "source": [
    "xgb_model_loaded.predict(process_instance(data))"
   ]
  },
  {
   "cell_type": "code",
   "execution_count": null,
   "id": "c9e93aaf-0242-4535-8d9c-2103e49d43ff",
   "metadata": {},
   "outputs": [],
   "source": []
  }
 ],
 "metadata": {
  "environment": {
   "kernel": "python3",
   "name": "common-cpu.m97",
   "type": "gcloud",
   "uri": "gcr.io/deeplearning-platform-release/base-cpu:m97"
  },
  "kernelspec": {
   "display_name": "Python 3",
   "language": "python",
   "name": "python3"
  },
  "language_info": {
   "codemirror_mode": {
    "name": "ipython",
    "version": 3
   },
   "file_extension": ".py",
   "mimetype": "text/x-python",
   "name": "python",
   "nbconvert_exporter": "python",
   "pygments_lexer": "ipython3",
   "version": "3.7.12"
  }
 },
 "nbformat": 4,
 "nbformat_minor": 5
}
